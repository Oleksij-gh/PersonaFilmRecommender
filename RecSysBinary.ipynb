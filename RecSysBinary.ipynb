{
  "nbformat": 4,
  "nbformat_minor": 0,
  "metadata": {
    "colab": {
      "provenance": [],
      "authorship_tag": "ABX9TyNSHxCw2EFsJzXZHe6VuNKI",
      "include_colab_link": true
    },
    "kernelspec": {
      "name": "python3",
      "display_name": "Python 3"
    },
    "language_info": {
      "name": "python"
    }
  },
  "cells": [
    {
      "cell_type": "markdown",
      "metadata": {
        "id": "view-in-github",
        "colab_type": "text"
      },
      "source": [
        "<a href=\"https://colab.research.google.com/github/Oleksij-gh/PersonaFilmRecommender/blob/main/RecSysBinary.ipynb\" target=\"_parent\"><img src=\"https://colab.research.google.com/assets/colab-badge.svg\" alt=\"Open In Colab\"/></a>"
      ]
    },
    {
      "cell_type": "markdown",
      "source": [
        "https://grouplens.org/datasets/movielens/tag-genome-2021/"
      ],
      "metadata": {
        "id": "fgkW_G922cOa"
      }
    },
    {
      "cell_type": "markdown",
      "source": [
        "Global parameters"
      ],
      "metadata": {
        "id": "aklEQ9EnyHM7"
      }
    },
    {
      "cell_type": "code",
      "source": [
        "seed = 42"
      ],
      "metadata": {
        "id": "2bqwDZsuyGQ4"
      },
      "execution_count": 1,
      "outputs": []
    },
    {
      "cell_type": "markdown",
      "source": [
        "to do:\n",
        "\n",
        "Значения характера - категориальные признаки и прогнать через OHE"
      ],
      "metadata": {
        "id": "GnmdoNadKyf1"
      }
    },
    {
      "cell_type": "markdown",
      "source": [
        "# Data"
      ],
      "metadata": {
        "id": "FV36IK7J8rQU"
      }
    },
    {
      "cell_type": "markdown",
      "source": [
        "## Donload and Unzip"
      ],
      "metadata": {
        "id": "CxiGVxOh8tn5"
      }
    },
    {
      "cell_type": "code",
      "source": [
        "import zipfile"
      ],
      "metadata": {
        "id": "5cFDpjK-zTLo"
      },
      "execution_count": 2,
      "outputs": []
    },
    {
      "cell_type": "code",
      "source": [
        "!gdown 1moqyaSdqD0VWfv-MKAcaCAO7W2RewAQF\n"
      ],
      "metadata": {
        "colab": {
          "base_uri": "https://localhost:8080/"
        },
        "id": "4UG3rCD3zUAj",
        "outputId": "a697a858-5a6f-48ce-a349-098a2edc9c91"
      },
      "execution_count": 3,
      "outputs": [
        {
          "output_type": "stream",
          "name": "stdout",
          "text": [
            "Downloading...\n",
            "From: https://drive.google.com/uc?id=1moqyaSdqD0VWfv-MKAcaCAO7W2RewAQF\n",
            "To: /content/RecSys.zip\n",
            "\r  0% 0.00/9.92M [00:00<?, ?B/s]\r 90% 8.91M/9.92M [00:00<00:00, 88.0MB/s]\r100% 9.92M/9.92M [00:00<00:00, 89.5MB/s]\n"
          ]
        }
      ]
    },
    {
      "cell_type": "code",
      "execution_count": 4,
      "metadata": {
        "id": "2F32FCEf7acs"
      },
      "outputs": [],
      "source": [
        "with zipfile.ZipFile('/content/RecSys.zip') as zip:\n",
        "    zip.extractall('/content/data')"
      ]
    },
    {
      "cell_type": "code",
      "source": [
        "!wget https://files.grouplens.org/datasets/tag-genome-2021/genome_2021.zip"
      ],
      "metadata": {
        "id": "VpC4ipWsy_nN",
        "colab": {
          "base_uri": "https://localhost:8080/"
        },
        "outputId": "8fc16779-f73d-4f4f-b25b-0c3b522eed92"
      },
      "execution_count": 5,
      "outputs": [
        {
          "output_type": "stream",
          "name": "stdout",
          "text": [
            "--2024-05-10 15:39:27--  https://files.grouplens.org/datasets/tag-genome-2021/genome_2021.zip\n",
            "Resolving files.grouplens.org (files.grouplens.org)... 128.101.65.152\n",
            "Connecting to files.grouplens.org (files.grouplens.org)|128.101.65.152|:443... connected.\n",
            "HTTP request sent, awaiting response... 200 OK\n",
            "Length: 1928028583 (1.8G) [application/zip]\n",
            "Saving to: ‘genome_2021.zip’\n",
            "\n",
            "genome_2021.zip     100%[===================>]   1.79G  63.9MB/s    in 29s     \n",
            "\n",
            "2024-05-10 15:39:56 (63.7 MB/s) - ‘genome_2021.zip’ saved [1928028583/1928028583]\n",
            "\n"
          ]
        }
      ]
    },
    {
      "cell_type": "code",
      "source": [
        "with zipfile.ZipFile('/content/genome_2021.zip') as zip:\n",
        "    zip.extractall('/content/data')"
      ],
      "metadata": {
        "id": "u_gkRhBTzCQI"
      },
      "execution_count": 6,
      "outputs": []
    },
    {
      "cell_type": "markdown",
      "source": [
        "## Preprocessing"
      ],
      "metadata": {
        "id": "NMp387n19EMT"
      }
    },
    {
      "cell_type": "code",
      "source": [
        "import pandas as pd"
      ],
      "metadata": {
        "id": "gu2dOnC-z0Yd"
      },
      "execution_count": 7,
      "outputs": []
    },
    {
      "cell_type": "markdown",
      "source": [
        "### Personality"
      ],
      "metadata": {
        "id": "zCLR6e46zhtV"
      }
    },
    {
      "cell_type": "code",
      "source": [
        "person_data = pd.read_csv('/content/data/2018-personality-data.csv')\n",
        "rating_data = pd.read_csv('/content/data/2018_ratings.csv')"
      ],
      "metadata": {
        "id": "DWs3-0XD9Kh5"
      },
      "execution_count": 8,
      "outputs": []
    },
    {
      "cell_type": "code",
      "source": [
        "person_data = person_data.drop([' assigned metric',\n",
        "       ' assigned condition', ' movie_1', ' predicted_rating_1', ' movie_2',\n",
        "       ' predicted_rating_2', ' movie_3', ' predicted_rating_3', ' movie_4',\n",
        "       ' predicted_rating_4', ' movie_5', ' predicted_rating_5', ' movie_6',\n",
        "       ' predicted_rating_6', ' movie_7', ' predicted_rating_7', ' movie_8',\n",
        "       ' predicted_rating_8', ' movie_9', ' predicted_rating_9', ' movie_10',\n",
        "       ' predicted_rating_10', ' movie_11', ' predicted_rating_11',\n",
        "       ' movie_12', ' predicted_rating_12', ' is_personalized',\n",
        "       ' enjoy_watching '], axis=1)"
      ],
      "metadata": {
        "id": "12KFIfX6jz7N"
      },
      "execution_count": 9,
      "outputs": []
    },
    {
      "cell_type": "code",
      "source": [
        "person_data.rename({' openness': 'openness',\n",
        "                    ' agreeableness': 'agreeableness',\n",
        "                    ' emotional_stability': 'emotional_stability',\n",
        "                    ' conscientiousness': 'conscientiousness',\n",
        "                    ' extraversion': 'extraversion',\n",
        "                    }, inplace=True, axis=1)"
      ],
      "metadata": {
        "id": "5R45scq7z3u3"
      },
      "execution_count": 10,
      "outputs": []
    },
    {
      "cell_type": "code",
      "source": [
        "rating_data.rename({'useri': 'userid',\n",
        "                    ' rating': 'rating',\n",
        "                    ' movie_id': 'movie_id'}, inplace=True, axis=1)"
      ],
      "metadata": {
        "id": "i9eRFbe3ojCW"
      },
      "execution_count": 11,
      "outputs": []
    },
    {
      "cell_type": "code",
      "source": [
        "df_personality = person_data.merge(rating_data, how=\"inner\", on=['userid'])"
      ],
      "metadata": {
        "id": "v3nR6wcj90Uh"
      },
      "execution_count": 12,
      "outputs": []
    },
    {
      "cell_type": "code",
      "source": [
        "df_personality = df_personality.drop(['userid', ' tstamp '], axis=1)"
      ],
      "metadata": {
        "id": "KTN-ax40prAz"
      },
      "execution_count": 13,
      "outputs": []
    },
    {
      "cell_type": "code",
      "source": [
        "df_personality['rating'].astype('int').value_counts()"
      ],
      "metadata": {
        "colab": {
          "base_uri": "https://localhost:8080/"
        },
        "id": "IuqIShQWDluF",
        "outputId": "5b2e050d-4b52-4923-aad2-562d92097c64"
      },
      "execution_count": 14,
      "outputs": [
        {
          "output_type": "execute_result",
          "data": {
            "text/plain": [
              "rating\n",
              "3    416879\n",
              "4    348024\n",
              "2    158296\n",
              "5     72821\n",
              "1     52546\n",
              "0     21637\n",
              "Name: count, dtype: int64"
            ]
          },
          "metadata": {},
          "execution_count": 14
        }
      ]
    },
    {
      "cell_type": "code",
      "source": [
        "df_personality['rating'].astype('int').hist()"
      ],
      "metadata": {
        "colab": {
          "base_uri": "https://localhost:8080/",
          "height": 448
        },
        "id": "15c0HHpAF7E3",
        "outputId": "7cd01370-cc62-45f9-e36a-d105d083f2ad"
      },
      "execution_count": 15,
      "outputs": [
        {
          "output_type": "execute_result",
          "data": {
            "text/plain": [
              "<Axes: >"
            ]
          },
          "metadata": {},
          "execution_count": 15
        },
        {
          "output_type": "display_data",
          "data": {
            "text/plain": [
              "<Figure size 640x480 with 1 Axes>"
            ],
            "image/png": "[encoded data removed]"
          },
          "metadata": {}
        }
      ]
    },
    {
      "cell_type": "markdown",
      "source": [
        "### Movies"
      ],
      "metadata": {
        "id": "h6NttHDezq1a"
      }
    },
    {
      "cell_type": "code",
      "source": [
        "import json"
      ],
      "metadata": {
        "id": "Zp1A6GC51ZwX"
      },
      "execution_count": 16,
      "outputs": []
    },
    {
      "cell_type": "code",
      "source": [
        "def GetJsonDf(path):\n",
        "  json_list = [json.loads(line) for line in open(path, 'r')]\n",
        "  json_str = json.dumps(json_list)\n",
        "  df = pd.read_json(json_str)\n",
        "  return df"
      ],
      "metadata": {
        "id": "cxxdP_0w1YQ7"
      },
      "execution_count": 17,
      "outputs": []
    },
    {
      "cell_type": "markdown",
      "source": [
        "Metadata"
      ],
      "metadata": {
        "id": "g-tADdwD2YrC"
      }
    },
    {
      "cell_type": "code",
      "source": [
        "df_metadata = GetJsonDf('/content/data/movie_dataset_public_final/raw/metadata.json')"
      ],
      "metadata": {
        "id": "0RGAQxdg13Ie"
      },
      "execution_count": 18,
      "outputs": []
    },
    {
      "cell_type": "code",
      "source": [
        "df_metadata.rename({'item_id': 'movie_id'}, inplace=True, axis=1)"
      ],
      "metadata": {
        "id": "tbZDjW9x21XH"
      },
      "execution_count": 19,
      "outputs": []
    },
    {
      "cell_type": "markdown",
      "source": [
        "Tags"
      ],
      "metadata": {
        "id": "9Bu6JBb52WwA"
      }
    },
    {
      "cell_type": "code",
      "source": [
        "df_survey = GetJsonDf('/content/data/movie_dataset_public_final/raw/survey_answers.json')"
      ],
      "metadata": {
        "id": "ra6JHsu82VDB"
      },
      "execution_count": 20,
      "outputs": []
    },
    {
      "cell_type": "code",
      "source": [
        "df_survey.rename({'item_id': 'movie_id'}, inplace=True, axis=1)"
      ],
      "metadata": {
        "id": "ZuaTQKTF3Rn4"
      },
      "execution_count": 21,
      "outputs": []
    },
    {
      "cell_type": "code",
      "source": [
        "df_tags = GetJsonDf('/content/data/movie_dataset_public_final/raw/tags.json')"
      ],
      "metadata": {
        "id": "67tpsxsG4LVc"
      },
      "execution_count": 22,
      "outputs": []
    },
    {
      "cell_type": "code",
      "source": [
        "df_tags.rename({'id': 'tag_id'}, inplace=True, axis=1)"
      ],
      "metadata": {
        "id": "nlery_q-4a3U"
      },
      "execution_count": 23,
      "outputs": []
    },
    {
      "cell_type": "code",
      "source": [
        "res = (df_survey.groupby(['movie_id'], as_index=False).apply(lambda x: x.nlargest(3,['score'])).reset_index(level=0, drop=True))"
      ],
      "metadata": {
        "id": "iLAKIVM640Tb"
      },
      "execution_count": 24,
      "outputs": []
    },
    {
      "cell_type": "code",
      "source": [
        "res = res.merge(df_tags, how=\"left\", on=['tag_id'])"
      ],
      "metadata": {
        "id": "uoLa7vi38iAT"
      },
      "execution_count": 25,
      "outputs": []
    },
    {
      "cell_type": "code",
      "source": [
        "tags = {}\n",
        "for i, row in res.iterrows():\n",
        "  try:\n",
        "    tags[row['movie_id']].append(row['tag'])\n",
        "  except:\n",
        "    tags[row['movie_id']] = [row['tag']]\n",
        "\n"
      ],
      "metadata": {
        "id": "MDp-xYAe3btC"
      },
      "execution_count": 26,
      "outputs": []
    },
    {
      "cell_type": "markdown",
      "source": [
        "### Merge"
      ],
      "metadata": {
        "id": "9u2Txetj5TVw"
      }
    },
    {
      "cell_type": "code",
      "source": [
        "df_merge = df_personality.merge(df_metadata, how=\"left\", on=['movie_id'])\n"
      ],
      "metadata": {
        "id": "SWOb_T-l5SKw"
      },
      "execution_count": 167,
      "outputs": []
    },
    {
      "cell_type": "code",
      "source": [
        "def GetTag(movie_id, num, tags):\n",
        "  try:\n",
        "    return tags[movie_id][num-1]\n",
        "  except:\n",
        "    return None"
      ],
      "metadata": {
        "id": "ds9TOpau7XLN"
      },
      "execution_count": 168,
      "outputs": []
    },
    {
      "cell_type": "code",
      "source": [
        "for i in range(3):\n",
        "  df_merge['tag'+str(i)] = df_merge['movie_id'].apply(lambda x: GetTag(x, i))\n",
        "df_merge['tag1'] = df_merge['movie_id'].apply(lambda x: GetTag(x, 1, tags))\n",
        "df_merge['tag2'] = df_merge['movie_id'].apply(lambda x: GetTag(x, 2, tags))\n",
        "df_merge['tag3'] = df_merge['movie_id'].apply(lambda x: GetTag(x, 3, tags))"
      ],
      "metadata": {
        "id": "FyWsv7cV7jNY"
      },
      "execution_count": 169,
      "outputs": []
    },
    {
      "cell_type": "code",
      "source": [
        "df_merge.drop(['dateAdded', 'avgRating', 'imdbId', 'movie_id'], inplace=True, axis=1)"
      ],
      "metadata": {
        "id": "lnF0qReK8-I5"
      },
      "execution_count": 170,
      "outputs": []
    },
    {
      "cell_type": "code",
      "source": [
        "# TEST TEST TEST TEST\n",
        "df_merge.drop(['directedBy', 'starring'], inplace=True, axis=1)"
      ],
      "metadata": {
        "id": "0x35tkD-Q6gS"
      },
      "execution_count": 171,
      "outputs": []
    },
    {
      "cell_type": "code",
      "source": [
        "df_merge.head()"
      ],
      "metadata": {
        "colab": {
          "base_uri": "https://localhost:8080/",
          "height": 206
        },
        "id": "aYxPeZgU77No",
        "outputId": "aef7ef6b-2a86-4dda-8ce2-a4739c17112e"
      },
      "execution_count": 172,
      "outputs": [
        {
          "output_type": "execute_result",
          "data": {
            "text/plain": [
              "   openness  agreeableness  emotional_stability  conscientiousness  \\\n",
              "0       5.0            2.0                  3.0                2.5   \n",
              "1       5.0            2.0                  3.0                2.5   \n",
              "2       5.0            2.0                  3.0                2.5   \n",
              "3       5.0            2.0                  3.0                2.5   \n",
              "4       5.0            2.0                  3.0                2.5   \n",
              "\n",
              "   extraversion  rating                               title         tag1  \\\n",
              "0           6.5     5.0                    Toy Story (1995)        pixar   \n",
              "1           6.5     4.0                      Jumanji (1995)      animals   \n",
              "2           6.5     4.0             Grumpier Old Men (1995)       sequel   \n",
              "3           6.5     5.0  Father of the Bride Part II (1995)  good sequel   \n",
              "4           6.5     4.0                         Heat (1995)        crime   \n",
              "\n",
              "        tag2       tag3  \n",
              "0     comedy  animation  \n",
              "1    animals  animation  \n",
              "2  minnesota  minnesota  \n",
              "3     comedy  pregnancy  \n",
              "4   dialogue     action  "
            ],
            "text/html": [
              "\n",
              "  <div id=\"df-9fd4e22b-93d0-441e-92de-b29dd6e03e46\" class=\"colab-df-container\">\n",
              "    <div>\n",
              "<style scoped>\n",
              "    .dataframe tbody tr th:only-of-type {\n",
              "        vertical-align: middle;\n",
              "    }\n",
              "\n",
              "    .dataframe tbody tr th {\n",
              "        vertical-align: top;\n",
              "    }\n",
              "\n",
              "    .dataframe thead th {\n",
              "        text-align: right;\n",
              "    }\n",
              "</style>\n",
              "<table border=\"1\" class=\"dataframe\">\n",
              "  <thead>\n",
              "    <tr style=\"text-align: right;\">\n",
              "      <th></th>\n",
              "      <th>openness</th>\n",
              "      <th>agreeableness</th>\n",
              "      <th>emotional_stability</th>\n",
              "      <th>conscientiousness</th>\n",
              "      <th>extraversion</th>\n",
              "      <th>rating</th>\n",
              "      <th>title</th>\n",
              "      <th>tag1</th>\n",
              "      <th>tag2</th>\n",
              "      <th>tag3</th>\n",
              "    </tr>\n",
              "  </thead>\n",
              "  <tbody>\n",
              "    <tr>\n",
              "      <th>0</th>\n",
              "      <td>5.0</td>\n",
              "      <td>2.0</td>\n",
              "      <td>3.0</td>\n",
              "      <td>2.5</td>\n",
              "      <td>6.5</td>\n",
              "      <td>5.0</td>\n",
              "      <td>Toy Story (1995)</td>\n",
              "      <td>pixar</td>\n",
              "      <td>comedy</td>\n",
              "      <td>animation</td>\n",
              "    </tr>\n",
              "    <tr>\n",
              "      <th>1</th>\n",
              "      <td>5.0</td>\n",
              "      <td>2.0</td>\n",
              "      <td>3.0</td>\n",
              "      <td>2.5</td>\n",
              "      <td>6.5</td>\n",
              "      <td>4.0</td>\n",
              "      <td>Jumanji (1995)</td>\n",
              "      <td>animals</td>\n",
              "      <td>animals</td>\n",
              "      <td>animation</td>\n",
              "    </tr>\n",
              "    <tr>\n",
              "      <th>2</th>\n",
              "      <td>5.0</td>\n",
              "      <td>2.0</td>\n",
              "      <td>3.0</td>\n",
              "      <td>2.5</td>\n",
              "      <td>6.5</td>\n",
              "      <td>4.0</td>\n",
              "      <td>Grumpier Old Men (1995)</td>\n",
              "      <td>sequel</td>\n",
              "      <td>minnesota</td>\n",
              "      <td>minnesota</td>\n",
              "    </tr>\n",
              "    <tr>\n",
              "      <th>3</th>\n",
              "      <td>5.0</td>\n",
              "      <td>2.0</td>\n",
              "      <td>3.0</td>\n",
              "      <td>2.5</td>\n",
              "      <td>6.5</td>\n",
              "      <td>5.0</td>\n",
              "      <td>Father of the Bride Part II (1995)</td>\n",
              "      <td>good sequel</td>\n",
              "      <td>comedy</td>\n",
              "      <td>pregnancy</td>\n",
              "    </tr>\n",
              "    <tr>\n",
              "      <th>4</th>\n",
              "      <td>5.0</td>\n",
              "      <td>2.0</td>\n",
              "      <td>3.0</td>\n",
              "      <td>2.5</td>\n",
              "      <td>6.5</td>\n",
              "      <td>4.0</td>\n",
              "      <td>Heat (1995)</td>\n",
              "      <td>crime</td>\n",
              "      <td>dialogue</td>\n",
              "      <td>action</td>\n",
              "    </tr>\n",
              "  </tbody>\n",
              "</table>\n",
              "</div>\n",
              "    <div class=\"colab-df-buttons\">\n",
              "\n",
              "  <div class=\"colab-df-container\">\n",
              "    <button class=\"colab-df-convert\" onclick=\"convertToInteractive('df-9fd4e22b-93d0-441e-92de-b29dd6e03e46')\"\n",
              "            title=\"Convert this dataframe to an interactive table.\"\n",
              "            style=\"display:none;\">\n",
              "\n",
              "  <svg xmlns=\"http://www.w3.org/2000/svg\" height=\"24px\" viewBox=\"0 -960 960 960\">\n",
              "    <path d=\"M120-120v-720h720v720H120Zm60-500h600v-160H180v160Zm220 220h160v-160H400v160Zm0 220h160v-160H400v160ZM180-400h160v-160H180v160Zm440 0h160v-160H620v160ZM180-180h160v-160H180v160Zm440 0h160v-160H620v160Z\"/>\n",
              "  </svg>\n",
              "    </button>\n",
              "\n",
              "  <style>\n",
              "    .colab-df-container {\n",
              "      display:flex;\n",
              "      gap: 12px;\n",
              "    }\n",
              "\n",
              "    .colab-df-convert {\n",
              "      background-color: #E8F0FE;\n",
              "      border: none;\n",
              "      border-radius: 50%;\n",
              "      cursor: pointer;\n",
              "      display: none;\n",
              "      fill: #1967D2;\n",
              "      height: 32px;\n",
              "      padding: 0 0 0 0;\n",
              "      width: 32px;\n",
              "    }\n",
              "\n",
              "    .colab-df-convert:hover {\n",
              "      background-color: #E2EBFA;\n",
              "      box-shadow: 0px 1px 2px rgba(60, 64, 67, 0.3), 0px 1px 3px 1px rgba(60, 64, 67, 0.15);\n",
              "      fill: #174EA6;\n",
              "    }\n",
              "\n",
              "    .colab-df-buttons div {\n",
              "      margin-bottom: 4px;\n",
              "    }\n",
              "\n",
              "    [theme=dark] .colab-df-convert {\n",
              "      background-color: #3B4455;\n",
              "      fill: #D2E3FC;\n",
              "    }\n",
              "\n",
              "    [theme=dark] .colab-df-convert:hover {\n",
              "      background-color: #434B5C;\n",
              "      box-shadow: 0px 1px 3px 1px rgba(0, 0, 0, 0.15);\n",
              "      filter: drop-shadow(0px 1px 2px rgba(0, 0, 0, 0.3));\n",
              "      fill: #FFFFFF;\n",
              "    }\n",
              "  </style>\n",
              "\n",
              "    <script>\n",
              "      const buttonEl =\n",
              "        document.querySelector('#df-9fd4e22b-93d0-441e-92de-b29dd6e03e46 button.colab-df-convert');\n",
              "      buttonEl.style.display =\n",
              "        google.colab.kernel.accessAllowed ? 'block' : 'none';\n",
              "\n",
              "      async function convertToInteractive(key) {\n",
              "        const element = document.querySelector('#df-9fd4e22b-93d0-441e-92de-b29dd6e03e46');\n",
              "        const dataTable =\n",
              "          await google.colab.kernel.invokeFunction('convertToInteractive',\n",
              "                                                    [key], {});\n",
              "        if (!dataTable) return;\n",
              "\n",
              "        const docLinkHtml = 'Like what you see? Visit the ' +\n",
              "          '<a target=\"_blank\" href=https://colab.research.google.com/notebooks/data_table.ipynb>data table notebook</a>'\n",
              "          + ' to learn more about interactive tables.';\n",
              "        element.innerHTML = '';\n",
              "        dataTable['output_type'] = 'display_data';\n",
              "        await google.colab.output.renderOutput(dataTable, element);\n",
              "        const docLink = document.createElement('div');\n",
              "        docLink.innerHTML = docLinkHtml;\n",
              "        element.appendChild(docLink);\n",
              "      }\n",
              "    </script>\n",
              "  </div>\n",
              "\n",
              "\n",
              "<div id=\"df-21644733-9bcf-4b53-81ed-8759d987e6d0\">\n",
              "  <button class=\"colab-df-quickchart\" onclick=\"quickchart('df-21644733-9bcf-4b53-81ed-8759d987e6d0')\"\n",
              "            title=\"Suggest charts\"\n",
              "            style=\"display:none;\">\n",
              "\n",
              "<svg xmlns=\"http://www.w3.org/2000/svg\" height=\"24px\"viewBox=\"0 0 24 24\"\n",
              "     width=\"24px\">\n",
              "    <g>\n",
              "        <path d=\"M19 3H5c-1.1 0-2 .9-2 2v14c0 1.1.9 2 2 2h14c1.1 0 2-.9 2-2V5c0-1.1-.9-2-2-2zM9 17H7v-7h2v7zm4 0h-2V7h2v10zm4 0h-2v-4h2v4z\"/>\n",
              "    </g>\n",
              "</svg>\n",
              "  </button>\n",
              "\n",
              "<style>\n",
              "  .colab-df-quickchart {\n",
              "      --bg-color: #E8F0FE;\n",
              "      --fill-color: #1967D2;\n",
              "      --hover-bg-color: #E2EBFA;\n",
              "      --hover-fill-color: #174EA6;\n",
              "      --disabled-fill-color: #AAA;\n",
              "      --disabled-bg-color: #DDD;\n",
              "  }\n",
              "\n",
              "  [theme=dark] .colab-df-quickchart {\n",
              "      --bg-color: #3B4455;\n",
              "      --fill-color: #D2E3FC;\n",
              "      --hover-bg-color: #434B5C;\n",
              "      --hover-fill-color: #FFFFFF;\n",
              "      --disabled-bg-color: #3B4455;\n",
              "      --disabled-fill-color: #666;\n",
              "  }\n",
              "\n",
              "  .colab-df-quickchart {\n",
              "    background-color: var(--bg-color);\n",
              "    border: none;\n",
              "    border-radius: 50%;\n",
              "    cursor: pointer;\n",
              "    display: none;\n",
              "    fill: var(--fill-color);\n",
              "    height: 32px;\n",
              "    padding: 0;\n",
              "    width: 32px;\n",
              "  }\n",
              "\n",
              "  .colab-df-quickchart:hover {\n",
              "    background-color: var(--hover-bg-color);\n",
              "    box-shadow: 0 1px 2px rgba(60, 64, 67, 0.3), 0 1px 3px 1px rgba(60, 64, 67, 0.15);\n",
              "    fill: var(--button-hover-fill-color);\n",
              "  }\n",
              "\n",
              "  .colab-df-quickchart-complete:disabled,\n",
              "  .colab-df-quickchart-complete:disabled:hover {\n",
              "    background-color: var(--disabled-bg-color);\n",
              "    fill: var(--disabled-fill-color);\n",
              "    box-shadow: none;\n",
              "  }\n",
              "\n",
              "  .colab-df-spinner {\n",
              "    border: 2px solid var(--fill-color);\n",
              "    border-color: transparent;\n",
              "    border-bottom-color: var(--fill-color);\n",
              "    animation:\n",
              "      spin 1s steps(1) infinite;\n",
              "  }\n",
              "\n",
              "  @keyframes spin {\n",
              "    0% {\n",
              "      border-color: transparent;\n",
              "      border-bottom-color: var(--fill-color);\n",
              "      border-left-color: var(--fill-color);\n",
              "    }\n",
              "    20% {\n",
              "      border-color: transparent;\n",
              "      border-left-color: var(--fill-color);\n",
              "      border-top-color: var(--fill-color);\n",
              "    }\n",
              "    30% {\n",
              "      border-color: transparent;\n",
              "      border-left-color: var(--fill-color);\n",
              "      border-top-color: var(--fill-color);\n",
              "      border-right-color: var(--fill-color);\n",
              "    }\n",
              "    40% {\n",
              "      border-color: transparent;\n",
              "      border-right-color: var(--fill-color);\n",
              "      border-top-color: var(--fill-color);\n",
              "    }\n",
              "    60% {\n",
              "      border-color: transparent;\n",
              "      border-right-color: var(--fill-color);\n",
              "    }\n",
              "    80% {\n",
              "      border-color: transparent;\n",
              "      border-right-color: var(--fill-color);\n",
              "      border-bottom-color: var(--fill-color);\n",
              "    }\n",
              "    90% {\n",
              "      border-color: transparent;\n",
              "      border-bottom-color: var(--fill-color);\n",
              "    }\n",
              "  }\n",
              "</style>\n",
              "\n",
              "  <script>\n",
              "    async function quickchart(key) {\n",
              "      const quickchartButtonEl =\n",
              "        document.querySelector('#' + key + ' button');\n",
              "      quickchartButtonEl.disabled = true;  // To prevent multiple clicks.\n",
              "      quickchartButtonEl.classList.add('colab-df-spinner');\n",
              "      try {\n",
              "        const charts = await google.colab.kernel.invokeFunction(\n",
              "            'suggestCharts', [key], {});\n",
              "      } catch (error) {\n",
              "        console.error('Error during call to suggestCharts:', error);\n",
              "      }\n",
              "      quickchartButtonEl.classList.remove('colab-df-spinner');\n",
              "      quickchartButtonEl.classList.add('colab-df-quickchart-complete');\n",
              "    }\n",
              "    (() => {\n",
              "      let quickchartButtonEl =\n",
              "        document.querySelector('#df-21644733-9bcf-4b53-81ed-8759d987e6d0 button');\n",
              "      quickchartButtonEl.style.display =\n",
              "        google.colab.kernel.accessAllowed ? 'block' : 'none';\n",
              "    })();\n",
              "  </script>\n",
              "</div>\n",
              "    </div>\n",
              "  </div>\n"
            ],
            "application/vnd.google.colaboratory.intrinsic+json": {
              "type": "dataframe",
              "variable_name": "df_merge"
            }
          },
          "metadata": {},
          "execution_count": 172
        }
      ]
    },
    {
      "cell_type": "markdown",
      "source": [
        "# Split"
      ],
      "metadata": {
        "id": "SwKvFGbYzudy"
      }
    },
    {
      "cell_type": "code",
      "source": [
        "df = df_merge.copy()"
      ],
      "metadata": {
        "id": "ufIOuVBBBHES"
      },
      "execution_count": 173,
      "outputs": []
    },
    {
      "cell_type": "code",
      "source": [
        "df['rating'] = df['rating'].apply(lambda x: 1 if x >= 4 else 0)"
      ],
      "metadata": {
        "id": "oYm8ffWfExjW"
      },
      "execution_count": 174,
      "outputs": []
    },
    {
      "cell_type": "code",
      "source": [
        "categorical_columns = ['openness', 'agreeableness', 'emotional_stability', 'conscientiousness', 'extraversion']\n",
        "for column in categorical_columns:\n",
        "  df[column] = df[column].astype(object)"
      ],
      "metadata": {
        "id": "ocJJy3JB8c_4"
      },
      "execution_count": 175,
      "outputs": []
    },
    {
      "cell_type": "code",
      "source": [
        "from sklearn.preprocessing import OneHotEncoder"
      ],
      "metadata": {
        "id": "0BNn5vBeQ1d2"
      },
      "execution_count": null,
      "outputs": []
    },
    {
      "cell_type": "code",
      "source": [
        "# OneHotEncoder\n",
        "\n",
        "#categorical_columns = df.select_dtypes(include=['object']).columns.tolist()\n",
        "#encoder = OneHotEncoder(sparse_output=False)\n",
        "#encoder = encoder.fit(df[categorical_columns])\n",
        "#ohe = encoder.transform(df[categorical_columns])\n",
        "#ohe_df = pd.DataFrame(ohe, columns=encoder.get_feature_names_out(categorical_columns))\n",
        "#df = pd.concat([df, ohe_df], axis=1)\n",
        "#df = df.drop(categorical_columns, axis=1)"
      ],
      "metadata": {
        "id": "U2tI6ldoB-HF"
      },
      "execution_count": null,
      "outputs": []
    },
    {
      "cell_type": "code",
      "source": [
        "X = df.drop('rating', axis = 1)#.values.astype('float32')\n",
        "y = df['rating'].values.astype('int')"
      ],
      "metadata": {
        "id": "lOF5WAiWyTQ3"
      },
      "execution_count": 176,
      "outputs": []
    },
    {
      "cell_type": "code",
      "source": [
        "!pip install category_encoders --quiet\n",
        "import category_encoders as ce"
      ],
      "metadata": {
        "colab": {
          "base_uri": "https://localhost:8080/"
        },
        "id": "-1etNj_0Bz01",
        "outputId": "8c41ff2e-8125-4ece-d62e-a05e98d2d6d1"
      },
      "execution_count": 37,
      "outputs": [
        {
          "output_type": "stream",
          "name": "stdout",
          "text": [
            "\u001b[?25l     \u001b[90m━━━━━━━━━━━━━━━━━━━━━━━━━━━━━━━━━━━━━━━━\u001b[0m \u001b[32m0.0/81.9 kB\u001b[0m \u001b[31m?\u001b[0m eta \u001b[36m-:--:--\u001b[0m\r\u001b[2K     \u001b[91m━━━━━━━━━━━━━━━━━━━━━━━━━━━━━━━━━━━\u001b[0m\u001b[90m╺\u001b[0m\u001b[90m━━━━\u001b[0m \u001b[32m71.7/81.9 kB\u001b[0m \u001b[31m2.1 MB/s\u001b[0m eta \u001b[36m0:00:01\u001b[0m\r\u001b[2K     \u001b[90m━━━━━━━━━━━━━━━━━━━━━━━━━━━━━━━━━━━━━━━━\u001b[0m \u001b[32m81.9/81.9 kB\u001b[0m \u001b[31m1.9 MB/s\u001b[0m eta \u001b[36m0:00:00\u001b[0m\n",
            "\u001b[?25h"
          ]
        }
      ]
    },
    {
      "cell_type": "code",
      "source": [
        "cbe_encoder = ce.cat_boost.CatBoostEncoder()\n",
        "cbe_encoder.fit(X, y)\n",
        "X_cbe = cbe_encoder.transform(X)"
      ],
      "metadata": {
        "id": "U7M7J_66spni"
      },
      "execution_count": 177,
      "outputs": []
    },
    {
      "cell_type": "code",
      "source": [
        "X = X_cbe.values.astype('float32')"
      ],
      "metadata": {
        "id": "FGeB6EeXs8UG"
      },
      "execution_count": 178,
      "outputs": []
    },
    {
      "cell_type": "markdown",
      "source": [
        "UnderSampling"
      ],
      "metadata": {
        "id": "vOOkNO3XKhqz"
      }
    },
    {
      "cell_type": "code",
      "source": [
        "#from imblearn.under_sampling import RandomUnderSampler\n",
        "#\n",
        "#rus = RandomUnderSampler(random_state=seed)\n",
        "#\n",
        "#X, y = rus.fit_resample(X, y)"
      ],
      "metadata": {
        "id": "nzwdmUYGvIzf"
      },
      "execution_count": 138,
      "outputs": []
    },
    {
      "cell_type": "markdown",
      "source": [
        "# NN"
      ],
      "metadata": {
        "id": "zmX7YRBNxxk0"
      }
    },
    {
      "cell_type": "markdown",
      "source": [
        "## Split data"
      ],
      "metadata": {
        "id": "h3BCnTu9x9bw"
      }
    },
    {
      "cell_type": "code",
      "source": [
        "from sklearn.model_selection import train_test_split\n",
        "\n",
        "def split_data(X, y, seed=42):\n",
        "  X_train, X_test, y_train, y_test = train_test_split(X, y, test_size=0.2, random_state=seed, stratify=y)\n",
        "\n",
        "  X_train, X_val, y_train, y_val = train_test_split(X_train, y_train, test_size=0.25, random_state=seed, stratify=y_train)\n",
        "\n",
        "  return X_train, y_train, X_val, y_val, X_test, y_test"
      ],
      "metadata": {
        "id": "n0ce5rHtx_5z"
      },
      "execution_count": 40,
      "outputs": []
    },
    {
      "cell_type": "markdown",
      "source": [
        "## Pytorch"
      ],
      "metadata": {
        "id": "HTO_kkTMyATq"
      }
    },
    {
      "cell_type": "code",
      "source": [
        "import torch\n",
        "import torch.nn as nn\n",
        "import torch.nn.functional as F\n",
        "from torch.utils.data import Dataset, DataLoader\n",
        "\n",
        "from tqdm import tqdm\n",
        "import copy\n",
        "import numpy as np"
      ],
      "metadata": {
        "id": "Q86j5yB_rj_b"
      },
      "execution_count": 41,
      "outputs": []
    },
    {
      "cell_type": "code",
      "source": [
        "device=\"cuda\" if torch.cuda.is_available() else \"cpu\"\n",
        "device"
      ],
      "metadata": {
        "colab": {
          "base_uri": "https://localhost:8080/",
          "height": 35
        },
        "id": "y1F7doOXxvze",
        "outputId": "291f523e-f7a4-4ad6-98cb-ec328a692957"
      },
      "execution_count": null,
      "outputs": [
        {
          "output_type": "execute_result",
          "data": {
            "text/plain": [
              "'cpu'"
            ],
            "application/vnd.google.colaboratory.intrinsic+json": {
              "type": "string"
            }
          },
          "metadata": {},
          "execution_count": 77
        }
      ]
    },
    {
      "cell_type": "code",
      "source": [
        "from torch.utils.tensorboard import SummaryWriter\n",
        "writer = SummaryWriter()"
      ],
      "metadata": {
        "id": "3XKZDmNaHfq-"
      },
      "execution_count": 42,
      "outputs": []
    },
    {
      "cell_type": "code",
      "source": [
        "X_train, y_train, X_val, y_val, X_test, y_test = split_data(X, y)"
      ],
      "metadata": {
        "id": "Bh_m2QWpx0OO"
      },
      "execution_count": 179,
      "outputs": []
    },
    {
      "cell_type": "code",
      "source": [
        "class Data(Dataset):\n",
        "    def __init__(self, X, y):\n",
        "        self.x=torch.from_numpy(X)\n",
        "        self.y=torch.from_numpy(y)\n",
        "        self.len=self.x.shape[0]\n",
        "    def __getitem__(self,index):\n",
        "        return self.x[index], self.y[index]\n",
        "    def __len__(self):\n",
        "        return self.len"
      ],
      "metadata": {
        "id": "BvxWp_Lb3Luz"
      },
      "execution_count": 85,
      "outputs": []
    },
    {
      "cell_type": "markdown",
      "source": [
        "Define train dataloader"
      ],
      "metadata": {
        "id": "oK85yUKu4hCv"
      }
    },
    {
      "cell_type": "code",
      "source": [
        "train_data = Data(X_train, y_train)\n",
        "train_dl = DataLoader(dataset=train_data, batch_size=32)"
      ],
      "metadata": {
        "id": "f74E7eAr3sVu"
      },
      "execution_count": 180,
      "outputs": []
    },
    {
      "cell_type": "markdown",
      "source": [
        "Define validate data"
      ],
      "metadata": {
        "id": "bpy8nmEd4leW"
      }
    },
    {
      "cell_type": "code",
      "source": [
        "val_data = Data(X_val, y_val)\n",
        "valid_dl = DataLoader(dataset=val_data, batch_size=32)"
      ],
      "metadata": {
        "id": "NarDmGie99mC"
      },
      "execution_count": 181,
      "outputs": []
    },
    {
      "cell_type": "markdown",
      "source": [
        "Define test data"
      ],
      "metadata": {
        "id": "lUxGkc1r4s-7"
      }
    },
    {
      "cell_type": "code",
      "source": [
        "X_test = torch.tensor(X_test, dtype=torch.float32)\n",
        "y_test = y_test\n"
      ],
      "metadata": {
        "id": "Im7wSbmD4ujf"
      },
      "execution_count": 182,
      "outputs": []
    },
    {
      "cell_type": "code",
      "source": [
        "class Model(nn.Module):\n",
        "\n",
        "    def __init__(self, input_shape, output_shape=2):\n",
        "        super(Model, self).__init__()\n",
        "\n",
        "        self.fc1 = nn.Linear(input_shape, 32)\n",
        "        self.fc2 = nn.Linear(32, 64)\n",
        "        self.fc3 = nn.Linear(64, 128)\n",
        "        #self.fc4 = nn.Linear(128, 256)\n",
        "        self.dropout = nn.Dropout(p=0.1)\n",
        "        #self.fc5 = nn.Linear(256, 128)\n",
        "        #self.fc6 = nn.Linear(128, 64)\n",
        "        self.fc7 = nn.Linear(128, output_shape)\n",
        "\n",
        "    def forward(self, x):\n",
        "        x = F.relu(self.fc1(x))\n",
        "        x = F.relu(self.fc2(x))\n",
        "        x = F.relu(self.fc3(x))\n",
        "        #x = F.relu(self.fc4(x))\n",
        "        x = self.dropout(x)\n",
        "        #x = F.relu(self.fc5(x))\n",
        "        #x = F.relu(self.fc6(x))\n",
        "        x = self.fc7(x)\n",
        "\n",
        "        return x\n"
      ],
      "metadata": {
        "id": "Jb2_y8No0WRn"
      },
      "execution_count": 183,
      "outputs": []
    },
    {
      "cell_type": "code",
      "source": [
        "# training parameters\n",
        "n_epochs = 5\n",
        "learning_rate = 1e-3\n",
        "\n",
        "model = Model(X_train.shape[1], len(set(y)))\n",
        "optimizer = torch.optim.AdamW(model.parameters(), lr=learning_rate)\n",
        "criterion = nn.CrossEntropyLoss()\n",
        "\n",
        "\n",
        "\n",
        "# Hold the best model\n",
        "best_loss = np.inf\n",
        "best_weights = None\n",
        "\n",
        "# save history\n",
        "history_loss = []\n",
        "history_f1 = []\n",
        "history_acc = []\n",
        "history_val_loss = []\n",
        "history_val_f1 = []\n",
        "history_val_acc = []\n",
        "\n",
        "total_params = sum(p.numel() for p in model.parameters())\n",
        "params_trainable = sum(p.numel() for p in model.parameters() if p.requires_grad)\n",
        "print(f'Trainable params count: {params_trainable }')\n",
        "print(f'Total params count: {total_params}')"
      ],
      "metadata": {
        "colab": {
          "base_uri": "https://localhost:8080/"
        },
        "id": "exDG_bGU0g-Y",
        "outputId": "52e63449-c21e-402c-b08f-933017388a5f"
      },
      "execution_count": 193,
      "outputs": [
        {
          "output_type": "stream",
          "name": "stdout",
          "text": [
            "Trainable params count: 11010\n",
            "Total params count: 11010\n"
          ]
        }
      ]
    },
    {
      "cell_type": "code",
      "source": [
        "from sklearn.metrics import f1_score, accuracy_score"
      ],
      "metadata": {
        "id": "z1RwQHiZi-Ku"
      },
      "execution_count": null,
      "outputs": []
    },
    {
      "cell_type": "code",
      "source": [
        "# training loop\n",
        "for epoch in range(n_epochs):\n",
        "  print(f'Epoch {epoch}')\n",
        "  model.train()\n",
        "  for X_train, y_train in tqdm(train_dl):\n",
        "\n",
        "    # forward pass\n",
        "    y_pred = model(X_train)\n",
        "\n",
        "    # calculate loss\n",
        "    loss = criterion(y_pred, y_train)\n",
        "    writer.add_scalar(\"Loss/train\", loss, epoch)\n",
        "\n",
        "    # backward pass\n",
        "    optimizer.zero_grad()\n",
        "    loss.backward()\n",
        "\n",
        "    # update weights\n",
        "    optimizer.step()\n",
        "\n",
        "  # calculate score\n",
        "  _, y_pred = torch.max(y_pred.data, 1)\n",
        "  y_pred = y_pred.cpu().numpy()\n",
        "\n",
        "  f1 = f1_score(y_train, y_pred)\n",
        "  acc = accuracy_score(y_train, y_pred)\n",
        "\n",
        "  history_f1.append(f1)\n",
        "  history_acc.append(acc)\n",
        "\n",
        "  print(f'Train Loss: {loss:.3f} | F1: {f1:.3f} | Accuracy: {acc:.3f}')\n",
        "  history_loss.append(float(loss))\n",
        "\n",
        "  # evaluate\n",
        "  model.eval()\n",
        "  loss_val = 0\n",
        "  acc_val = 0\n",
        "  f1_val = 0\n",
        "\n",
        "  with torch.no_grad():\n",
        "    for X_val, y_val in valid_dl:\n",
        "      y_pred = model(X_val)\n",
        "      loss_val += criterion(y_pred, y_val)\n",
        "\n",
        "      _, y_pred = torch.max(y_pred.data, 1)\n",
        "      y_pred = y_pred.cpu().numpy()\n",
        "\n",
        "      f1 = f1_score(y_val, y_pred)\n",
        "      acc = accuracy_score(y_val, y_pred)\n",
        "\n",
        "      acc_val += acc\n",
        "      f1_val += f1\n",
        "\n",
        "    # calculate valid loss, acc\n",
        "    loss_val /= len(valid_dl)\n",
        "    acc_val /= len(valid_dl)\n",
        "    f1_val /= len(valid_dl)\n",
        "\n",
        "    history_val_loss.append(loss_val)\n",
        "    history_val_acc.append(acc_val)\n",
        "    history_val_f1.append(f1_val)\n",
        "\n",
        "    print(f'Validate Loss: {loss_val:.3f} | F1: {f1_val:.3f} | Accuracy: {acc_val:.3f}')\n",
        "    print('-'*30)\n",
        "\n",
        "    # store best model\n",
        "    if loss_val < best_loss:\n",
        "      best_loss = loss_val\n",
        "      best_model_wts = copy.deepcopy(model.state_dict())\n",
        "writer.flush()"
      ],
      "metadata": {
        "colab": {
          "base_uri": "https://localhost:8080/"
        },
        "id": "4hYL3Ojk0ioo",
        "outputId": "d39df31d-c084-4fcf-814f-1b8d03a7a166"
      },
      "execution_count": 203,
      "outputs": [
        {
          "output_type": "stream",
          "name": "stdout",
          "text": [
            "Epoch 0\n"
          ]
        },
        {
          "output_type": "stream",
          "name": "stderr",
          "text": [
            "100%|██████████| 20067/20067 [01:01<00:00, 325.18it/s]\n"
          ]
        },
        {
          "output_type": "stream",
          "name": "stdout",
          "text": [
            "Train Loss: 0.668 | F1: 0.444 | Accuracy: 0.444\n",
            "Validate Loss: 0.579 | F1: 0.627 | Accuracy: 0.686\n",
            "------------------------------\n",
            "Epoch 1\n"
          ]
        },
        {
          "output_type": "stream",
          "name": "stderr",
          "text": [
            "100%|██████████| 20067/20067 [01:01<00:00, 324.94it/s]\n"
          ]
        },
        {
          "output_type": "stream",
          "name": "stdout",
          "text": [
            "Train Loss: 0.671 | F1: 0.400 | Accuracy: 0.333\n",
            "Validate Loss: 0.580 | F1: 0.630 | Accuracy: 0.684\n",
            "------------------------------\n",
            "Epoch 2\n"
          ]
        },
        {
          "output_type": "stream",
          "name": "stderr",
          "text": [
            "100%|██████████| 20067/20067 [01:01<00:00, 326.57it/s]\n"
          ]
        },
        {
          "output_type": "stream",
          "name": "stdout",
          "text": [
            "Train Loss: 0.663 | F1: 0.444 | Accuracy: 0.444\n",
            "Validate Loss: 0.580 | F1: 0.627 | Accuracy: 0.686\n",
            "------------------------------\n",
            "Epoch 3\n"
          ]
        },
        {
          "output_type": "stream",
          "name": "stderr",
          "text": [
            "100%|██████████| 20067/20067 [01:01<00:00, 324.62it/s]\n"
          ]
        },
        {
          "output_type": "stream",
          "name": "stdout",
          "text": [
            "Train Loss: 0.660 | F1: 0.444 | Accuracy: 0.444\n",
            "Validate Loss: 0.577 | F1: 0.625 | Accuracy: 0.688\n",
            "------------------------------\n",
            "Epoch 4\n"
          ]
        },
        {
          "output_type": "stream",
          "name": "stderr",
          "text": [
            "100%|██████████| 20067/20067 [01:01<00:00, 326.18it/s]\n"
          ]
        },
        {
          "output_type": "stream",
          "name": "stdout",
          "text": [
            "Train Loss: 0.654 | F1: 0.444 | Accuracy: 0.444\n",
            "Validate Loss: 0.582 | F1: 0.632 | Accuracy: 0.682\n",
            "------------------------------\n"
          ]
        }
      ]
    },
    {
      "cell_type": "code",
      "source": [
        "from matplotlib import pyplot as plt"
      ],
      "metadata": {
        "id": "4Wnd14Ky6YGo"
      },
      "execution_count": 52,
      "outputs": []
    },
    {
      "cell_type": "code",
      "source": [
        "plt.plot(history_loss)\n",
        "plt.plot(history_val_loss)\n",
        "plt.legend(['Train loss', 'Validate loss'])\n",
        "plt.title('Loss')\n",
        "plt.show()\n"
      ],
      "metadata": {
        "colab": {
          "base_uri": "https://localhost:8080/",
          "height": 452
        },
        "id": "9FlMfQgw6UKW",
        "outputId": "9a88b730-34f4-483c-9bb8-1a98dc06c626"
      },
      "execution_count": 204,
      "outputs": [
        {
          "output_type": "display_data",
          "data": {
            "text/plain": [
              "<Figure size 640x480 with 1 Axes>"
            ],
            "image/png": "[encoded data removed]"
          },
          "metadata": {}
        }
      ]
    },
    {
      "cell_type": "code",
      "source": [
        "plt.plot(history_acc)\n",
        "plt.plot(history_val_acc)\n",
        "plt.legend(['Train acc', 'Validate accc'])\n",
        "plt.title('Accuracy')\n",
        "plt.show()\n"
      ],
      "metadata": {
        "colab": {
          "base_uri": "https://localhost:8080/",
          "height": 452
        },
        "id": "fp3GfByK4IGp",
        "outputId": "62b2436e-bd3a-40d7-a805-b157e88c8ce1"
      },
      "execution_count": 205,
      "outputs": [
        {
          "output_type": "display_data",
          "data": {
            "text/plain": [
              "<Figure size 640x480 with 1 Axes>"
            ],
            "image/png": "[encoded data removed]"
          },
          "metadata": {}
        }
      ]
    },
    {
      "cell_type": "code",
      "source": [
        "plt.plot(history_f1)\n",
        "plt.plot(history_val_f1)\n",
        "plt.legend(['Train f1', 'Validate f1'])\n",
        "plt.title('F1')\n",
        "plt.show()"
      ],
      "metadata": {
        "colab": {
          "base_uri": "https://localhost:8080/",
          "height": 452
        },
        "id": "7XHKV-BQgjzY",
        "outputId": "b1df9e24-d63d-4087-e4d5-86a4500e41ee"
      },
      "execution_count": 206,
      "outputs": [
        {
          "output_type": "display_data",
          "data": {
            "text/plain": [
              "<Figure size 640x480 with 1 Axes>"
            ],
            "image/png": "[encoded data removed]"
          },
          "metadata": {}
        }
      ]
    },
    {
      "cell_type": "code",
      "source": [
        "model.load_state_dict(best_model_wts)\n",
        "model.eval()\n",
        "y_pred = model(X_test)\n",
        "_, y_pred = torch.max(y_pred.data, 1)\n",
        "y_pred = y_pred.cpu().numpy()"
      ],
      "metadata": {
        "id": "ISBVCtkF276W"
      },
      "execution_count": 207,
      "outputs": []
    },
    {
      "cell_type": "code",
      "source": [
        "set(y_pred)"
      ],
      "metadata": {
        "colab": {
          "base_uri": "https://localhost:8080/"
        },
        "id": "TpQrQH9e94Fo",
        "outputId": "cf10b40d-b155-4a55-9fd6-b78a4afa3b15"
      },
      "execution_count": 208,
      "outputs": [
        {
          "output_type": "execute_result",
          "data": {
            "text/plain": [
              "{0, 1}"
            ]
          },
          "metadata": {},
          "execution_count": 208
        }
      ]
    },
    {
      "cell_type": "code",
      "source": [
        "print(y_pred)"
      ],
      "metadata": {
        "colab": {
          "base_uri": "https://localhost:8080/"
        },
        "id": "DSIjYz7rzdaO",
        "outputId": "9787a13d-17d2-4ea8-8f2d-19b9cdfb082d"
      },
      "execution_count": 214,
      "outputs": [
        {
          "output_type": "stream",
          "name": "stdout",
          "text": [
            "[0 1 0 ... 0 1 1]\n"
          ]
        }
      ]
    },
    {
      "cell_type": "code",
      "source": [
        "print(y_test)"
      ],
      "metadata": {
        "colab": {
          "base_uri": "https://localhost:8080/"
        },
        "id": "I_Plwh5i6Lez",
        "outputId": "76d22d43-b850-45f2-9f95-878c51daed52"
      },
      "execution_count": 213,
      "outputs": [
        {
          "output_type": "stream",
          "name": "stdout",
          "text": [
            "[0 0 0 ... 0 1 0]\n"
          ]
        }
      ]
    },
    {
      "cell_type": "code",
      "source": [
        "from sklearn.metrics import accuracy_score, precision_score, recall_score, f1_score"
      ],
      "metadata": {
        "id": "YfUk62eJWLx3"
      },
      "execution_count": 113,
      "outputs": []
    },
    {
      "cell_type": "code",
      "source": [
        "accuracy = accuracy_score(y_test, y_pred)\n",
        "precision = precision_score(y_test, y_pred)\n",
        "recall = recall_score(y_test, y_pred)\n",
        "f1 = f1_score(y_test, y_pred)\n",
        "\n",
        "print(f'Accuracy = {accuracy}')\n",
        "print(f'Precision = {precision}')\n",
        "print(f'Recall = {recall}')\n",
        "print(f'F1 = {f1}')"
      ],
      "metadata": {
        "colab": {
          "base_uri": "https://localhost:8080/"
        },
        "id": "zBcUTLUIWJ2T",
        "outputId": "058fd291-cca9-4c71-bbb6-4e699bcc6e86"
      },
      "execution_count": 211,
      "outputs": [
        {
          "output_type": "stream",
          "name": "stdout",
          "text": [
            "Accuracy = 0.6901014291654403\n",
            "Precision = 0.5908248472505092\n",
            "Recall = 0.6893155437275006\n",
            "F1 = 0.636281385542499\n"
          ]
        }
      ]
    },
    {
      "cell_type": "markdown",
      "source": [
        "# Tensorboard"
      ],
      "metadata": {
        "id": "DibH0shAH-RO"
      }
    },
    {
      "cell_type": "code",
      "source": [
        "!pip install tensorboard"
      ],
      "metadata": {
        "id": "xjftbxsWGPjK",
        "colab": {
          "base_uri": "https://localhost:8080/"
        },
        "outputId": "8b49fa92-39c8-487f-acb4-71281e16cfc2"
      },
      "execution_count": 214,
      "outputs": [
        {
          "output_type": "stream",
          "name": "stdout",
          "text": [
            "Requirement already satisfied: tensorboard in /usr/local/lib/python3.10/dist-packages (2.15.2)\n",
            "Requirement already satisfied: absl-py>=0.4 in /usr/local/lib/python3.10/dist-packages (from tensorboard) (1.4.0)\n",
            "Requirement already satisfied: grpcio>=1.48.2 in /usr/local/lib/python3.10/dist-packages (from tensorboard) (1.63.0)\n",
            "Requirement already satisfied: google-auth<3,>=1.6.3 in /usr/local/lib/python3.10/dist-packages (from tensorboard) (2.27.0)\n",
            "Requirement already satisfied: google-auth-oauthlib<2,>=0.5 in /usr/local/lib/python3.10/dist-packages (from tensorboard) (1.2.0)\n",
            "Requirement already satisfied: markdown>=2.6.8 in /usr/local/lib/python3.10/dist-packages (from tensorboard) (3.6)\n",
            "Requirement already satisfied: numpy>=1.12.0 in /usr/local/lib/python3.10/dist-packages (from tensorboard) (1.25.2)\n",
            "Requirement already satisfied: protobuf!=4.24.0,>=3.19.6 in /usr/local/lib/python3.10/dist-packages (from tensorboard) (3.20.3)\n",
            "Requirement already satisfied: requests<3,>=2.21.0 in /usr/local/lib/python3.10/dist-packages (from tensorboard) (2.31.0)\n",
            "Requirement already satisfied: setuptools>=41.0.0 in /usr/local/lib/python3.10/dist-packages (from tensorboard) (67.7.2)\n",
            "Requirement already satisfied: six>1.9 in /usr/local/lib/python3.10/dist-packages (from tensorboard) (1.16.0)\n",
            "Requirement already satisfied: tensorboard-data-server<0.8.0,>=0.7.0 in /usr/local/lib/python3.10/dist-packages (from tensorboard) (0.7.2)\n",
            "Requirement already satisfied: werkzeug>=1.0.1 in /usr/local/lib/python3.10/dist-packages (from tensorboard) (3.0.3)\n",
            "Requirement already satisfied: cachetools<6.0,>=2.0.0 in /usr/local/lib/python3.10/dist-packages (from google-auth<3,>=1.6.3->tensorboard) (5.3.3)\n",
            "Requirement already satisfied: pyasn1-modules>=0.2.1 in /usr/local/lib/python3.10/dist-packages (from google-auth<3,>=1.6.3->tensorboard) (0.4.0)\n",
            "Requirement already satisfied: rsa<5,>=3.1.4 in /usr/local/lib/python3.10/dist-packages (from google-auth<3,>=1.6.3->tensorboard) (4.9)\n",
            "Requirement already satisfied: requests-oauthlib>=0.7.0 in /usr/local/lib/python3.10/dist-packages (from google-auth-oauthlib<2,>=0.5->tensorboard) (1.3.1)\n",
            "Requirement already satisfied: charset-normalizer<4,>=2 in /usr/local/lib/python3.10/dist-packages (from requests<3,>=2.21.0->tensorboard) (3.3.2)\n",
            "Requirement already satisfied: idna<4,>=2.5 in /usr/local/lib/python3.10/dist-packages (from requests<3,>=2.21.0->tensorboard) (3.7)\n",
            "Requirement already satisfied: urllib3<3,>=1.21.1 in /usr/local/lib/python3.10/dist-packages (from requests<3,>=2.21.0->tensorboard) (2.0.7)\n",
            "Requirement already satisfied: certifi>=2017.4.17 in /usr/local/lib/python3.10/dist-packages (from requests<3,>=2.21.0->tensorboard) (2024.2.2)\n",
            "Requirement already satisfied: MarkupSafe>=2.1.1 in /usr/local/lib/python3.10/dist-packages (from werkzeug>=1.0.1->tensorboard) (2.1.5)\n",
            "Requirement already satisfied: pyasn1<0.7.0,>=0.4.6 in /usr/local/lib/python3.10/dist-packages (from pyasn1-modules>=0.2.1->google-auth<3,>=1.6.3->tensorboard) (0.6.0)\n",
            "Requirement already satisfied: oauthlib>=3.0.0 in /usr/local/lib/python3.10/dist-packages (from requests-oauthlib>=0.7.0->google-auth-oauthlib<2,>=0.5->tensorboard) (3.2.2)\n"
          ]
        }
      ]
    },
    {
      "cell_type": "code",
      "source": [
        "http://localhost:6006/"
      ],
      "metadata": {
        "id": "dFOvGlQdIHk_"
      },
      "execution_count": null,
      "outputs": []
    },
    {
      "cell_type": "code",
      "source": [
        "!tensorboard --logdir=runs"
      ],
      "metadata": {
        "colab": {
          "base_uri": "https://localhost:8080/"
        },
        "id": "n6aKW2w3Ny9T",
        "outputId": "54c3bab3-2ac7-418b-ba30-509483747e82"
      },
      "execution_count": 215,
      "outputs": [
        {
          "output_type": "stream",
          "name": "stdout",
          "text": [
            "2024-05-10 11:16:35.988494: E external/local_xla/xla/stream_executor/cuda/cuda_dnn.cc:9261] Unable to register cuDNN factory: Attempting to register factory for plugin cuDNN when one has already been registered\n",
            "2024-05-10 11:16:35.988566: E external/local_xla/xla/stream_executor/cuda/cuda_fft.cc:607] Unable to register cuFFT factory: Attempting to register factory for plugin cuFFT when one has already been registered\n",
            "2024-05-10 11:16:35.991618: E external/local_xla/xla/stream_executor/cuda/cuda_blas.cc:1515] Unable to register cuBLAS factory: Attempting to register factory for plugin cuBLAS when one has already been registered\n",
            "2024-05-10 11:16:39.811844: W tensorflow/compiler/tf2tensorrt/utils/py_utils.cc:38] TF-TRT Warning: Could not find TensorRT\n",
            "\n",
            "NOTE: Using experimental fast data loading logic. To disable, pass\n",
            "    \"--load_fast=false\" and report issues on GitHub. More details:\n",
            "    https://github.com/tensorflow/tensorboard/issues/4784\n",
            "\n",
            "Serving TensorBoard on localhost; to expose to the network, use a proxy or pass --bind_all\n",
            "TensorBoard 2.15.2 at http://localhost:6006/ (Press CTRL+C to quit)\n",
            "Exception ignored in atexit callback: <function wait_for_tokens at 0x7e378c306050>\n",
            "Traceback (most recent call last):\n",
            "  File \"/usr/local/lib/python3.10/dist-packages/jax/_src/dispatch.py\", line 154, in wait_for_tokens\n",
            "    @atexit.register\n",
            "KeyboardInterrupt: \n"
          ]
        }
      ]
    },
    {
      "cell_type": "code",
      "source": [],
      "metadata": {
        "id": "zqdknSf3NzEu"
      },
      "execution_count": null,
      "outputs": []
    }
  ]
}